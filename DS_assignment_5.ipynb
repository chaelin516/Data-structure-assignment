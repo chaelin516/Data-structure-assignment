{
  "nbformat": 4,
  "nbformat_minor": 0,
  "metadata": {
    "colab": {
      "provenance": []
    },
    "kernelspec": {
      "name": "python3",
      "display_name": "Python 3"
    },
    "language_info": {
      "name": "python"
    }
  },
  "cells": [
    {
      "cell_type": "markdown",
      "source": [
        "1. LMS 구글 시트에 생년월일 적기 (완료)\n",
        "\n",
        "2. 구글 시트의 생일 데이터를 birthday.csv 파일로 작성하기 (업로드 완료)\n",
        "\n",
        "3. 생일 데이터를 교재 코드(heap.py)를 이용해 힙으로 저장하고, 생일이 느린 순서로\n",
        "10명의 친구를 출력하는 코드를 작성한다.실행 결과가 셀에 나타나야 한다.  "
      ],
      "metadata": {
        "id": "Q2BsGc4E0cpr"
      }
    },
    {
      "cell_type": "code",
      "source": [
        "from google.colab import files\n",
        "uploaded = files.upload()\n"
      ],
      "metadata": {
        "colab": {
          "base_uri": "https://localhost:8080/",
          "height": 76
        },
        "id": "lGpxeu0v1Cb5",
        "outputId": "3448f9ea-8fa6-4830-8ea9-680c7bba3443"
      },
      "execution_count": 1,
      "outputs": [
        {
          "output_type": "display_data",
          "data": {
            "text/plain": [
              "<IPython.core.display.HTML object>"
            ],
            "text/html": [
              "\n",
              "     <input type=\"file\" id=\"files-d40e1609-9a1b-46e1-ad30-f0f01c1089d9\" name=\"files[]\" multiple disabled\n",
              "        style=\"border:none\" />\n",
              "     <output id=\"result-d40e1609-9a1b-46e1-ad30-f0f01c1089d9\">\n",
              "      Upload widget is only available when the cell has been executed in the\n",
              "      current browser session. Please rerun this cell to enable.\n",
              "      </output>\n",
              "      <script>// Copyright 2017 Google LLC\n",
              "//\n",
              "// Licensed under the Apache License, Version 2.0 (the \"License\");\n",
              "// you may not use this file except in compliance with the License.\n",
              "// You may obtain a copy of the License at\n",
              "//\n",
              "//      http://www.apache.org/licenses/LICENSE-2.0\n",
              "//\n",
              "// Unless required by applicable law or agreed to in writing, software\n",
              "// distributed under the License is distributed on an \"AS IS\" BASIS,\n",
              "// WITHOUT WARRANTIES OR CONDITIONS OF ANY KIND, either express or implied.\n",
              "// See the License for the specific language governing permissions and\n",
              "// limitations under the License.\n",
              "\n",
              "/**\n",
              " * @fileoverview Helpers for google.colab Python module.\n",
              " */\n",
              "(function(scope) {\n",
              "function span(text, styleAttributes = {}) {\n",
              "  const element = document.createElement('span');\n",
              "  element.textContent = text;\n",
              "  for (const key of Object.keys(styleAttributes)) {\n",
              "    element.style[key] = styleAttributes[key];\n",
              "  }\n",
              "  return element;\n",
              "}\n",
              "\n",
              "// Max number of bytes which will be uploaded at a time.\n",
              "const MAX_PAYLOAD_SIZE = 100 * 1024;\n",
              "\n",
              "function _uploadFiles(inputId, outputId) {\n",
              "  const steps = uploadFilesStep(inputId, outputId);\n",
              "  const outputElement = document.getElementById(outputId);\n",
              "  // Cache steps on the outputElement to make it available for the next call\n",
              "  // to uploadFilesContinue from Python.\n",
              "  outputElement.steps = steps;\n",
              "\n",
              "  return _uploadFilesContinue(outputId);\n",
              "}\n",
              "\n",
              "// This is roughly an async generator (not supported in the browser yet),\n",
              "// where there are multiple asynchronous steps and the Python side is going\n",
              "// to poll for completion of each step.\n",
              "// This uses a Promise to block the python side on completion of each step,\n",
              "// then passes the result of the previous step as the input to the next step.\n",
              "function _uploadFilesContinue(outputId) {\n",
              "  const outputElement = document.getElementById(outputId);\n",
              "  const steps = outputElement.steps;\n",
              "\n",
              "  const next = steps.next(outputElement.lastPromiseValue);\n",
              "  return Promise.resolve(next.value.promise).then((value) => {\n",
              "    // Cache the last promise value to make it available to the next\n",
              "    // step of the generator.\n",
              "    outputElement.lastPromiseValue = value;\n",
              "    return next.value.response;\n",
              "  });\n",
              "}\n",
              "\n",
              "/**\n",
              " * Generator function which is called between each async step of the upload\n",
              " * process.\n",
              " * @param {string} inputId Element ID of the input file picker element.\n",
              " * @param {string} outputId Element ID of the output display.\n",
              " * @return {!Iterable<!Object>} Iterable of next steps.\n",
              " */\n",
              "function* uploadFilesStep(inputId, outputId) {\n",
              "  const inputElement = document.getElementById(inputId);\n",
              "  inputElement.disabled = false;\n",
              "\n",
              "  const outputElement = document.getElementById(outputId);\n",
              "  outputElement.innerHTML = '';\n",
              "\n",
              "  const pickedPromise = new Promise((resolve) => {\n",
              "    inputElement.addEventListener('change', (e) => {\n",
              "      resolve(e.target.files);\n",
              "    });\n",
              "  });\n",
              "\n",
              "  const cancel = document.createElement('button');\n",
              "  inputElement.parentElement.appendChild(cancel);\n",
              "  cancel.textContent = 'Cancel upload';\n",
              "  const cancelPromise = new Promise((resolve) => {\n",
              "    cancel.onclick = () => {\n",
              "      resolve(null);\n",
              "    };\n",
              "  });\n",
              "\n",
              "  // Wait for the user to pick the files.\n",
              "  const files = yield {\n",
              "    promise: Promise.race([pickedPromise, cancelPromise]),\n",
              "    response: {\n",
              "      action: 'starting',\n",
              "    }\n",
              "  };\n",
              "\n",
              "  cancel.remove();\n",
              "\n",
              "  // Disable the input element since further picks are not allowed.\n",
              "  inputElement.disabled = true;\n",
              "\n",
              "  if (!files) {\n",
              "    return {\n",
              "      response: {\n",
              "        action: 'complete',\n",
              "      }\n",
              "    };\n",
              "  }\n",
              "\n",
              "  for (const file of files) {\n",
              "    const li = document.createElement('li');\n",
              "    li.append(span(file.name, {fontWeight: 'bold'}));\n",
              "    li.append(span(\n",
              "        `(${file.type || 'n/a'}) - ${file.size} bytes, ` +\n",
              "        `last modified: ${\n",
              "            file.lastModifiedDate ? file.lastModifiedDate.toLocaleDateString() :\n",
              "                                    'n/a'} - `));\n",
              "    const percent = span('0% done');\n",
              "    li.appendChild(percent);\n",
              "\n",
              "    outputElement.appendChild(li);\n",
              "\n",
              "    const fileDataPromise = new Promise((resolve) => {\n",
              "      const reader = new FileReader();\n",
              "      reader.onload = (e) => {\n",
              "        resolve(e.target.result);\n",
              "      };\n",
              "      reader.readAsArrayBuffer(file);\n",
              "    });\n",
              "    // Wait for the data to be ready.\n",
              "    let fileData = yield {\n",
              "      promise: fileDataPromise,\n",
              "      response: {\n",
              "        action: 'continue',\n",
              "      }\n",
              "    };\n",
              "\n",
              "    // Use a chunked sending to avoid message size limits. See b/62115660.\n",
              "    let position = 0;\n",
              "    do {\n",
              "      const length = Math.min(fileData.byteLength - position, MAX_PAYLOAD_SIZE);\n",
              "      const chunk = new Uint8Array(fileData, position, length);\n",
              "      position += length;\n",
              "\n",
              "      const base64 = btoa(String.fromCharCode.apply(null, chunk));\n",
              "      yield {\n",
              "        response: {\n",
              "          action: 'append',\n",
              "          file: file.name,\n",
              "          data: base64,\n",
              "        },\n",
              "      };\n",
              "\n",
              "      let percentDone = fileData.byteLength === 0 ?\n",
              "          100 :\n",
              "          Math.round((position / fileData.byteLength) * 100);\n",
              "      percent.textContent = `${percentDone}% done`;\n",
              "\n",
              "    } while (position < fileData.byteLength);\n",
              "  }\n",
              "\n",
              "  // All done.\n",
              "  yield {\n",
              "    response: {\n",
              "      action: 'complete',\n",
              "    }\n",
              "  };\n",
              "}\n",
              "\n",
              "scope.google = scope.google || {};\n",
              "scope.google.colab = scope.google.colab || {};\n",
              "scope.google.colab._files = {\n",
              "  _uploadFiles,\n",
              "  _uploadFilesContinue,\n",
              "};\n",
              "})(self);\n",
              "</script> "
            ]
          },
          "metadata": {}
        },
        {
          "output_type": "stream",
          "name": "stdout",
          "text": [
            "Saving DS_Birthdaydata.csv to DS_Birthdaydata.csv\n"
          ]
        }
      ]
    },
    {
      "cell_type": "code",
      "source": [
        "import csv\n",
        "import heapq\n",
        "from datetime import datetime\n",
        "\n",
        "# 생일 데이터 (빈 생일은 무시)\n",
        "heap = []\n",
        "with open(\"DS_Birthdaydata.csv\", newline='', encoding='utf-8') as csvfile:\n",
        "    reader = csv.DictReader(csvfile)\n",
        "    for row in reader:\n",
        "        if row['생년월일8자리(예.20040101)'].strip():  # 생일 값이 있는 경우에만\n",
        "            try:\n",
        "                birth = datetime.strptime(row['생년월일8자리(예.20040101)'], \"%Y%m%d\")\n",
        "                name = row['이름']\n",
        "                heapq.heappush(heap, (-birth.timestamp(), name))\n",
        "            except ValueError:\n",
        "                print(f\"⚠️ 생년월일 형식 오류: {row['생년월일8자리(예.20040101)']} (이름: {row['이름']})\")\n",
        "\n",
        "# 상위 10명 출력\n",
        "print(\"🎂 생일이 느린 순서 Top 10:\")\n",
        "for _ in range(min(10, len(heap))):\n",
        "    ts, name = heapq.heappop(heap)\n",
        "    birth = datetime.fromtimestamp(-ts).strftime(\"%Y-%m-%d\")\n",
        "    print(f\"{birth}, {name}\")\n"
      ],
      "metadata": {
        "colab": {
          "base_uri": "https://localhost:8080/"
        },
        "id": "lonY3rb03cAJ",
        "outputId": "3141899c-00f2-48b8-e555-c171d65f1dd6"
      },
      "execution_count": 6,
      "outputs": [
        {
          "output_type": "stream",
          "name": "stdout",
          "text": [
            "⚠️ 생년월일 형식 오류: 20241282 (이름: 홍서연)\n",
            "🎂 생일이 느린 순서 Top 10:\n",
            "2005-12-30, 신수민\n",
            "2005-12-25, 이서영\n",
            "2005-12-14, 강민주\n",
            "2005-12-02, 김민경\n",
            "2005-11-12, 이서영\n",
            "2005-11-02, 배시은\n",
            "2005-10-31, 김여원\n",
            "2005-10-28, 이서진\n",
            "2005-10-24, 서홍빈\n",
            "2005-10-19, 김예빈\n"
          ]
        }
      ]
    },
    {
      "cell_type": "markdown",
      "source": [
        "4. 생일 데이터를 교재 코드(circularDoublyLinkedList.py)를 이용해 리스트로\n",
        "저장하고, 같은 조(지난 과제 지정 조원 참조)의 친구들만 이름과 생년월일을\n",
        "출력하는 코드를 작성한다. 실행 결과가 셀에 나타나야 한다.  "
      ],
      "metadata": {
        "id": "4rnECInC1DLG"
      }
    },
    {
      "cell_type": "code",
      "source": [
        "import csv\n",
        "from datetime import datetime\n",
        "\n",
        "# ✅ 내가 찾는 학생들 (학번 끝 2자리, 이름)\n",
        "내가_찾는_학생 = [\n",
        "    ('60', '이채린'),\n",
        "    ('90', '김예원'),\n",
        "    ('76', '강주영'),\n",
        "    ('33', '정혜민'),\n",
        "    ('86', '윤소정'),\n",
        "    ('82', '홍서연'),\n",
        "    ('84', '김소민'),\n",
        "    ('18', '강다원'),\n",
        "    ('61', '전예빈'),\n",
        "    ('98', '이서연')\n",
        "]\n",
        "\n",
        "결과 = []\n",
        "\n",
        "with open('DS_Birthdaydata.csv', newline='', encoding='utf-8') as csvfile:\n",
        "    reader = csv.DictReader(csvfile)\n",
        "    for row in reader:\n",
        "        학번 = row['학번'].strip().replace('*', '')  # 별표 제거\n",
        "        이름 = row['이름'].strip()\n",
        "        생일 = row['생년월일8자리(예.20040101)'].strip()\n",
        "\n",
        "        # 학번이 2자리 이상인 경우\n",
        "        if len(학번) >= 2:\n",
        "            끝2자리 = 학번[-2:]\n",
        "            if (끝2자리, 이름) in 내가_찾는_학생:\n",
        "                # 생일이 비어 있거나 잘못된 날짜 형식이면 제외\n",
        "                try:\n",
        "                    if 생일:\n",
        "                        datetime.strptime(생일, \"%Y%m%d\")  # 유효한 날짜인지 검사\n",
        "                        결과.append((이름, 생일))\n",
        "                except ValueError:\n",
        "                    # 생년월일 형식 오류 시 제외\n",
        "                    continue\n",
        "\n",
        "# 결과 출력\n",
        "print(\"📋 생년월일이 유효한 학생 목록:\")\n",
        "for 이름, 생일 in 결과:\n",
        "    print(f\"{이름}, {생일}\")\n"
      ],
      "metadata": {
        "colab": {
          "base_uri": "https://localhost:8080/"
        },
        "id": "-0Ud7FJf1KEf",
        "outputId": "2c474485-b938-40d7-e7de-071bad957942"
      },
      "execution_count": 7,
      "outputs": [
        {
          "output_type": "stream",
          "name": "stdout",
          "text": [
            "📋 생년월일이 유효한 학생 목록:\n",
            "강다원, 20031015\n",
            "강주영, 20041228\n",
            "김소민, 20050203\n",
            "김예원, 20040412\n",
            "윤소정, 20040413\n",
            "이서연, 20041007\n",
            "이채린, 20030516\n",
            "정혜민, 20030917\n"
          ]
        }
      ]
    },
    {
      "cell_type": "markdown",
      "source": [
        "5. 교재 8장 우선순위 큐 연습문제"
      ],
      "metadata": {
        "id": "BuBd4iMY1Mgp"
      }
    },
    {
      "cell_type": "code",
      "source": [
        "1번 정답: 예\n",
        "2번 정답: 아니다\n",
        "3번 정답: ⌊n / 2⌋\n",
        "4번 정답: 최악 O(log n), 최선 O(1)\n",
        "5번 정답: 예\n",
        "6번 정답: 아니다 (O(n log n))\n",
        "7번 정답: 스며올리기(heapify-up)\n",
        "\n"
      ],
      "metadata": {
        "id": "k_XGsaTW1QiC"
      },
      "execution_count": null,
      "outputs": []
    },
    {
      "cell_type": "markdown",
      "source": [
        "6. LeetCode 703.Kth Largest Element in Stream"
      ],
      "metadata": {
        "id": "vuGJVdjx1Q1H"
      }
    },
    {
      "cell_type": "code",
      "source": [
        "import heapq\n",
        "\n",
        "class KthLargest:\n",
        "    def __init__(self, k: int, nums: list[int]):\n",
        "        self.k = k\n",
        "        self.min_heap = nums\n",
        "        heapq.heapify(self.min_heap)  # 최소 힙 생성\n",
        "        # 힙 크기를 k로 유지\n",
        "        while len(self.min_heap) > k:\n",
        "            heapq.heappop(self.min_heap)\n",
        "\n",
        "    def add(self, val: int) -> int:\n",
        "        heapq.heappush(self.min_heap, val)  # 값 추가\n",
        "        if len(self.min_heap) > self.k:\n",
        "            heapq.heappop(self.min_heap)  # 가장 작은 값 제거\n",
        "        return self.min_heap[0]  # k번째 큰 값 (최소 힙의 루트)\n"
      ],
      "metadata": {
        "id": "OPwz9HrA1U0W"
      },
      "execution_count": 9,
      "outputs": []
    }
  ]
}